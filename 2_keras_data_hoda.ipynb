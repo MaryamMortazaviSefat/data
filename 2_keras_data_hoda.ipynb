{
  "nbformat": 4,
  "nbformat_minor": 0,
  "metadata": {
    "colab": {
      "provenance": [],
      "mount_file_id": "1slz5_GSY7pyb54VYEEv6HbEcPDAgXALi",
      "authorship_tag": "ABX9TyP9PgxDeNbbfLLGQ1aqZ84L"
    },
    "kernelspec": {
      "name": "python3",
      "display_name": "Python 3"
    },
    "language_info": {
      "name": "python"
    }
  },
  "cells": [
    {
      "cell_type": "code",
      "execution_count": null,
      "metadata": {
        "colab": {
          "base_uri": "https://localhost:8080/"
        },
        "id": "G9q6igjYY9--",
        "outputId": "ea2e4590-f7f7-43f8-935e-156d941bdfba"
      },
      "outputs": [
        {
          "output_type": "stream",
          "name": "stdout",
          "text": [
            "Requirement already satisfied: numpy in /usr/local/lib/python3.10/dist-packages (1.26.4)\n",
            "Requirement already satisfied: matplotlib in /usr/local/lib/python3.10/dist-packages (3.7.1)\n",
            "Requirement already satisfied: contourpy>=1.0.1 in /usr/local/lib/python3.10/dist-packages (from matplotlib) (1.3.0)\n",
            "Requirement already satisfied: cycler>=0.10 in /usr/local/lib/python3.10/dist-packages (from matplotlib) (0.12.1)\n",
            "Requirement already satisfied: fonttools>=4.22.0 in /usr/local/lib/python3.10/dist-packages (from matplotlib) (4.53.1)\n",
            "Requirement already satisfied: kiwisolver>=1.0.1 in /usr/local/lib/python3.10/dist-packages (from matplotlib) (1.4.7)\n",
            "Requirement already satisfied: numpy>=1.20 in /usr/local/lib/python3.10/dist-packages (from matplotlib) (1.26.4)\n",
            "Requirement already satisfied: packaging>=20.0 in /usr/local/lib/python3.10/dist-packages (from matplotlib) (24.1)\n",
            "Requirement already satisfied: pillow>=6.2.0 in /usr/local/lib/python3.10/dist-packages (from matplotlib) (9.4.0)\n",
            "Requirement already satisfied: pyparsing>=2.3.1 in /usr/local/lib/python3.10/dist-packages (from matplotlib) (3.1.4)\n",
            "Requirement already satisfied: python-dateutil>=2.7 in /usr/local/lib/python3.10/dist-packages (from matplotlib) (2.8.2)\n",
            "Requirement already satisfied: six>=1.5 in /usr/local/lib/python3.10/dist-packages (from python-dateutil>=2.7->matplotlib) (1.16.0)\n",
            "Requirement already satisfied: pillow in /usr/local/lib/python3.10/dist-packages (9.4.0)\n",
            "Requirement already satisfied: scikit-image in /usr/local/lib/python3.10/dist-packages (0.23.2)\n",
            "Requirement already satisfied: numpy>=1.23 in /usr/local/lib/python3.10/dist-packages (from scikit-image) (1.26.4)\n",
            "Requirement already satisfied: scipy>=1.9 in /usr/local/lib/python3.10/dist-packages (from scikit-image) (1.13.1)\n",
            "Requirement already satisfied: networkx>=2.8 in /usr/local/lib/python3.10/dist-packages (from scikit-image) (3.3)\n",
            "Requirement already satisfied: pillow>=9.1 in /usr/local/lib/python3.10/dist-packages (from scikit-image) (9.4.0)\n",
            "Requirement already satisfied: imageio>=2.33 in /usr/local/lib/python3.10/dist-packages (from scikit-image) (2.34.2)\n",
            "Requirement already satisfied: tifffile>=2022.8.12 in /usr/local/lib/python3.10/dist-packages (from scikit-image) (2024.8.30)\n",
            "Requirement already satisfied: packaging>=21 in /usr/local/lib/python3.10/dist-packages (from scikit-image) (24.1)\n",
            "Requirement already satisfied: lazy-loader>=0.4 in /usr/local/lib/python3.10/dist-packages (from scikit-image) (0.4)\n",
            "Requirement already satisfied: scipy in /usr/local/lib/python3.10/dist-packages (1.13.1)\n",
            "Requirement already satisfied: numpy<2.3,>=1.22.4 in /usr/local/lib/python3.10/dist-packages (from scipy) (1.26.4)\n"
          ]
        }
      ],
      "source": [
        "!pip install numpy\n",
        "!pip install matplotlib\n",
        "!pip install pillow\n",
        "!pip install scikit-image\n",
        "!pip install scipy"
      ]
    },
    {
      "cell_type": "code",
      "source": [
        "import matplotlib.pyplot as plt\n",
        "from sklearn.neighbors import KNeighborsClassifier\n",
        "from data_hoda import load_hoda\n",
        "import numpy as np\n"
      ],
      "metadata": {
        "id": "wzuwlSLdZkRv"
      },
      "execution_count": 5,
      "outputs": []
    },
    {
      "cell_type": "code",
      "source": [
        "import keras\n",
        "from keras.models import Sequential\n",
        "from keras.layers import Dense,Activation"
      ],
      "metadata": {
        "id": "EtdU44wi3cbI"
      },
      "execution_count": 4,
      "outputs": []
    },
    {
      "cell_type": "code",
      "source": [
        "np.random.seed(123)"
      ],
      "metadata": {
        "id": "GyAxbrAw9QBo"
      },
      "execution_count": 7,
      "outputs": []
    },
    {
      "cell_type": "code",
      "source": [
        "x_train_original, y_train_original, x_test_original, y_test_original = load_hoda()"
      ],
      "metadata": {
        "id": "9T5IEln5k-MV"
      },
      "execution_count": 8,
      "outputs": []
    },
    {
      "cell_type": "markdown",
      "source": [
        "تابعی جهت تست:"
      ],
      "metadata": {
        "id": "d7ZM_F74E71K"
      }
    },
    {
      "cell_type": "code",
      "source": [
        "def print_data_info(x_train,y_train,x_test,y_test):\n",
        "  print(\"\\ttype(x_train): {}\".format(type(x_train)))\n",
        "  print(\"\\ttype(y_train): {}\".format(type(y_train)))\n",
        "\n",
        "  print(\"\\tx_train.shape{}\".format(np.shape(x_train)))\n",
        "  print(\"\\ty_train.shape{}\".format(np.shape(y_train)))\n",
        "  print(\"\\tx_test.shape{}\".format(np.shape(x_test)))\n",
        "  print(\"\\ty_test.shape{}\".format(np.shape(x_test)))"
      ],
      "metadata": {
        "id": "DNoV4W4_CeJu"
      },
      "execution_count": 9,
      "outputs": []
    },
    {
      "cell_type": "markdown",
      "source": [
        "تبدیل به فرمت خوب برای شبکه عصبی با کراس"
      ],
      "metadata": {
        "id": "hXNDKIGcEtUp"
      }
    },
    {
      "cell_type": "code",
      "source": [
        "x_train=np.array(x_train_original)\n",
        "y_train=keras.utils.to_categorical(y_train_original,num_classes=10)\n",
        "x_test=np.array(x_test_original)\n",
        "y_test=keras.utils.to_categorical(y_test_original,num_classes=10)"
      ],
      "metadata": {
        "id": "a8APJKibDuNx"
      },
      "execution_count": 10,
      "outputs": []
    },
    {
      "cell_type": "code",
      "source": [
        "print(\"Before preprocessing:\")\n",
        "print_data_info(x_train_original,y_train_original,x_test_original,y_test_original)\n",
        "print(\"After preprocessing:\")\n",
        "print_data_info(x_train,y_train,x_test,y_test)"
      ],
      "metadata": {
        "id": "RCdNq4jDFjLf",
        "outputId": "b5231ace-545f-47a4-838b-c4e197b1444a",
        "colab": {
          "base_uri": "https://localhost:8080/"
        }
      },
      "execution_count": 11,
      "outputs": [
        {
          "output_type": "stream",
          "name": "stdout",
          "text": [
            "Before preprocessing:\n",
            "\ttype(x_train): <class 'numpy.ndarray'>\n",
            "\ttype(y_train): <class 'numpy.ndarray'>\n",
            "\tx_train.shape(1000, 25)\n",
            "\ty_train.shape(1000,)\n",
            "\tx_test.shape(200, 25)\n",
            "\ty_test.shape(200, 25)\n",
            "After preprocessing:\n",
            "\ttype(x_train): <class 'numpy.ndarray'>\n",
            "\ttype(y_train): <class 'numpy.ndarray'>\n",
            "\tx_train.shape(1000, 25)\n",
            "\ty_train.shape(1000, 10)\n",
            "\tx_test.shape(200, 25)\n",
            "\ty_test.shape(200, 25)\n"
          ]
        }
      ]
    },
    {
      "cell_type": "code",
      "source": [],
      "metadata": {
        "id": "WJKb2cToGem-"
      },
      "execution_count": null,
      "outputs": []
    }
  ]
}